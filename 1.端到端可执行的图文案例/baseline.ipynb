{
 "cells": [
  {
   "cell_type": "markdown",
   "source": [
    "## **ResNet50中药炮制饮片质量判断**\n",
    "### **背景介绍**\n",
    "中药炮制是根据中医药理论，依照临床辨证施治用药的需要和药物自身性质，以及调剂、制剂的不同要求，**将中药材制备成中药饮片所采取的一项制药技术**。平时我们老百姓能接触到的中药，主要指自己回家煎煮或者请医院代煎煮的中药，都是中药饮片，也就是中药炮制这个技术的结果。而中药炮制饮片，大部分涉及到水火的处理，一定需要讲究“程度适中”，炮制火候不够达不到最好药效，炮制火候过度也会丧失药效。\n",
    "- “生品”一般是指仅仅采用简单净选得到的饮片，通常没有经过火的处理，也是后续用火加工的原料。\n",
    "- “不及”就是“炮制不到位”，没有达到规定的程度，饮片不能发挥最好的效果。\n",
    "- “适中”是指炮制程度刚刚好，正是一个最佳的炮制点位，也是通常炮制结束的终点。\n",
    "- “太过”是指炮制程度过度了，超过了“适中”的最佳状态，这时候的饮片也会丧失药效，不能再使用了。\n",
    "\n",
    "过去的炮制饮片程度的判断，都是采用的老药工经验判断，但随着老药工人数越来越少，这种经验判断可能存在“失传”的风险。而随着人工智能的发展，使用深度神经网络模型对饮片状态进行判断能达到很好的效果，可以很好的实现经验的“智能化”和经验的传承。\n",
    "\n",
    "#### **ResNet网络简介**\n",
    "ResNet50网络是2015年由微软实验室的何恺明提出，获得ILSVRC2015图像分类竞赛第一名。在ResNet网络提出之前，传统的卷积神经网络都是将一系列的卷积层和池化层堆叠得到的，但当网络堆叠到一定深度时，就会出现退化问题。下图是在CIFAR-10数据集上使用56层网络与20层网络训练误差和测试误差图，由图中数据可以看出，56层网络比20层网络训练误差和测试误差更大，随着网络的加深，其误差并没有如预想的一样减小。<br>\n",
    "<img src=\"../7.案例中使用的图片/image-20230804110559.png\" alt=\"image-20230630102435999\" style=\"zoom:30%;\" width=\"60%\" />\n",
    "\n",
    "ResNet网络提出了残差网络结构(Residual Network)来减轻退化问题，使用ResNet网络可以实现搭建较深的网络结构（突破1000层）。论文中使用ResNet网络在CIFAR-10数据集上的训练误差与测试误差图如下图所示，图中虚线表示训练误差，实线表示测试误差。由图中数据可以看出，ResNet网络层数越深，其训练误差和测试误差越小。<br>\n",
    "<img src=\"../7.案例中使用的图片/image-20230804110625.png\" alt=\"image-20230630102435999\" style=\"zoom:30%;\" width=\"40%\" />\n",
    "\n",
    "\n"
   ],
   "metadata": {
    "collapsed": false,
    "pycharm": {
     "name": "#%% md\n"
    }
   }
  },
  {
   "cell_type": "markdown",
   "source": [
    "### **准备阶段**\n",
    "#### **配置实验环境**\n",
    "本案例支持在Ascend平台运行：\n",
    "- 平台：华为启智平台调试任务\n",
    "- 框架：MindSpore1.8.1\n",
    "- 硬件NPU：Ascend 910"
   ],
   "metadata": {
    "collapsed": false,
    "pycharm": {
     "name": "#%% md\n"
    }
   }
  },
  {
   "cell_type": "markdown",
   "source": [
    "#### **数据集介绍**\n",
    "\n",
    "我们使用“中药炮制饮片”数据集，该数据集由成都中医药大学提供，共包含中药炮制饮片的 3 个品种，分别为：蒲黄、山楂、王不留行，每个品种又有着4种炮制状态：生品、不及适中、太过，每类包含 500 张图片共12类5000张图片，图片尺寸为 4K，图片格式为 jpg。\n",
    "下面是数据集中的一些样例图片：\n",
    "\n",
    "<img src=\"../7.案例中使用的图片/image-20230508160428881.png\" alt=\"image-20230630102435999\" style=\"zoom:67%;\" width=\"90%\"/>"
   ],
   "metadata": {
    "collapsed": false,
    "pycharm": {
     "name": "#%% md\n"
    }
   }
  },
  {
   "cell_type": "markdown",
   "source": [
    "#### **准备数据**\n",
    "我们使用的数据集在调试任务中配置加载，并修改代码中对应url链接。"
   ],
   "metadata": {
    "collapsed": false,
    "pycharm": {
     "name": "#%% md\n"
    }
   }
  },
  {
   "cell_type": "code",
   "execution_count": null,
   "outputs": [],
   "source": [
    "from download import download\n",
    "import os\n",
    "url = \"https://open-data.obs.cn-south-222.ai.pcl.cn:443/attachment/7/0/7009e8dc-af94-4f50-afae-0a68fa7db3ee/zhongyiyao.zip?response-content-disposition=attachment%3B+filename%3D%22zhongyiyao.zip%22&AWSAccessKeyId=ZSCXA9TLRN1USYWIF7A5&Expires=1691206985&Signature=tThPGZ10b1lEY2Hqi0qs03z3P5M%3D\"\n",
    "# 创建的是调试任务，url修改为数据集上传生成的url链接\n",
    "if not os.path.exists(\"dataset\"):\n",
    "    download(url, \"dataset\", kind=\"zip\")"
   ],
   "metadata": {
    "collapsed": false,
    "pycharm": {
     "name": "#%%\n"
    }
   }
  },
  {
   "cell_type": "markdown",
   "source": [
    "#### **数据预处理**\n",
    "原图片尺寸为4k比较大，我们预处理将图片resize到指定尺寸。"
   ],
   "metadata": {
    "collapsed": false,
    "pycharm": {
     "name": "#%% md\n"
    }
   }
  },
  {
   "cell_type": "code",
   "execution_count": null,
   "outputs": [],
   "source": [
    "from PIL import Image\n",
    "import numpy as np\n",
    "data_dir = \"dataset/zhongyiyao\"\n",
    "new_data_path = \"dataset1/zhongyiyao\"\n",
    "if not os.path.exists(new_data_path):\n",
    "    for path in ['train','test']:\n",
    "        data_path = data_dir + \"/\" + path\n",
    "        classes = os.listdir(data_path)\n",
    "        for (i,class_name) in enumerate(classes):\n",
    "            floder_path =  data_path+\"/\"+class_name\n",
    "            print(f\"正在处理{floder_path}...\")\n",
    "            for image_name in os.listdir(floder_path):\n",
    "                try:\n",
    "                    image = Image.open(floder_path + \"/\" + image_name)\n",
    "                    image = image.resize((1000,1000))\n",
    "                    target_dir = new_data_path+\"/\"+path+\"/\"+class_name\n",
    "                    if not os.path.exists(target_dir):\n",
    "                        os.makedirs(target_dir)\n",
    "                    if not os.path.exists(target_dir+\"/\"+image_name):\n",
    "                        image.save(target_dir+\"/\"+image_name)\n",
    "                except:\n",
    "                    pass     "
   ],
   "metadata": {
    "collapsed": false,
    "pycharm": {
     "name": "#%%\n"
    }
   }
  },
  {
   "cell_type": "markdown",
   "source": [
    "#### **数据集划分**\n",
    "数据集已划分为训练集和测试集，可以接着继续划分验证集。"
   ],
   "metadata": {
    "collapsed": false,
    "pycharm": {
     "name": "#%% md\n"
    }
   }
  },
  {
   "cell_type": "code",
   "execution_count": null,
   "outputs": [],
   "source": [
    "from sklearn.model_selection import train_test_split\n",
    "import shutil\n",
    "\n",
    "def split_data(X, y, test_size=0.2, val_size=0.2, random_state=42):\n",
    "    \"\"\"\n",
    "    This function splits the data into training, validation, and test sets.\n",
    "    \"\"\"\n",
    "    # Split the data into training and test sets\n",
    "    X_train, X_test, y_train, y_test = train_test_split(X, y, test_size=test_size, random_state=random_state)\n",
    "\n",
    "    # Split the training data into training and validation sets\n",
    "    X_train, X_val, y_train, y_val = train_test_split(X_train, y_train, test_size=val_size/(1-test_size), random_state=random_state)\n",
    "\n",
    "    return X_train, X_val, X_test, y_train, y_val, y_test\n",
    "\n",
    "\n",
    "data_dir = \"dataset1/zhongyiyao\"\n",
    "floders = os.listdir(data_dir)\n",
    "target = ['train','test','valid']\n",
    "if set(floders) == set(target):\n",
    "    # 如果已经划分则跳过\n",
    "    pass\n",
    "elif 'train' in floders:\n",
    "    # 如果已经划分了train，test，那么只需要从train里边划分出valid\n",
    "    floders = os.listdir(data_dir)\n",
    "    new_data_dir = os.path.join(data_dir,'train')\n",
    "    classes = os.listdir(new_data_dir)\n",
    "    if '.ipynb_checkpoints' in classes:\n",
    "        classes.remove('.ipynb_checkpoints')\n",
    "    imgs = []\n",
    "    labels = []\n",
    "    for (i,class_name) in enumerate(classes):\n",
    "        new_path =  new_data_dir+\"/\"+class_name\n",
    "        for image_name in os.listdir(new_path):\n",
    "            imgs.append(image_name)\n",
    "            labels.append(class_name)\n",
    "    imgs_train,imgs_val,labels_train,labels_val = X_train, X_test, y_train, y_test = train_test_split(imgs, labels, test_size=0.2, random_state=42)\n",
    "    print(\"划分训练集图片数：\",len(imgs_train))\n",
    "    print(\"划分验证集图片数：\",len(imgs_val))\n",
    "    target_data_dir = os.path.join(data_dir,'valid')\n",
    "    if not os.path.exists(target_data_dir):\n",
    "        os.mkdir(target_data_dir)\n",
    "    for (img,label) in zip(imgs_val,labels_val):\n",
    "        source_path = os.path.join(data_dir,'train',label)\n",
    "        target_path = os.path.join(data_dir,'valid',label)\n",
    "        if not os.path.exists(target_path):\n",
    "            os.mkdir(target_path)\n",
    "        source_img = os.path.join(source_path,img)\n",
    "        target_img = os.path.join(target_path,img)\n",
    "        shutil.move(source_img,target_img)\n",
    "else:\n",
    "    phones = os.listdir(data_dir)\n",
    "    imgs = []\n",
    "    labels = []\n",
    "    for phone in phones:\n",
    "        phone_data_dir = os.path.join(data_dir,phone)\n",
    "        yaowu_list = os.listdir(phone_data_dir)\n",
    "        for yaowu in yaowu_list:\n",
    "            yaowu_data_dir = os.path.join(phone_data_dir,yaowu)\n",
    "            chengdu_list = os.listdir(yaowu_data_dir)\n",
    "            for chengdu in chengdu_list:\n",
    "                chengdu_data_dir = os.path.join(yaowu_data_dir,chengdu)\n",
    "                for img in os.listdir(chengdu_data_dir):\n",
    "                    imgs.append(img)\n",
    "                    label = ' '.join([phone,yaowu,chengdu])\n",
    "                    labels.append(label)\n",
    "    imgs_train, imgs_val, imgs_test, labels_train, labels_val, labels_test = split_data(imgs, labels, test_size=0.2, val_size=0.2, random_state=42)\n",
    "    img_label_tuple_list = [(imgs_train,labels_train),(imgs_val,labels_val),(imgs_test,labels_test)]\n",
    "    for (i,split) in enumerate(spilits):\n",
    "        target_data_dir = os.path.join(data_dir,split)\n",
    "        if not os.path.exists(target_data_dir):\n",
    "            os.mkdir(target_data_dir)\n",
    "        imgs_list,labels_list = img_label_tuple_list[i]\n",
    "        for (img,label) in zip(imgs_list,labels_list):\n",
    "            label_split = label.split(' ')\n",
    "            source_img = os.path.join(data_dir,label_split[0],label_split[1],label_split[2],img)\n",
    "            target_img_dir = os.path.join(target_data_dir,label_split[1]+\"_\"+label_split[2])\n",
    "            if not os.path.exists(target_img_dir):\n",
    "                os.mkdir(target_img_dir)\n",
    "            target_img = os.path.join(target_img_dir,img)\n",
    "            shutil.move(source_img,target_img)\n",
    "    "
   ],
   "metadata": {
    "collapsed": false,
    "pycharm": {
     "name": "#%%\n"
    }
   }
  },
  {
   "cell_type": "markdown",
   "source": [
    "#### **定义数据加载方式**\n",
    "通过重写Iterable类的方式加载图片数据集，支持单张图片和文件夹进行加载。"
   ],
   "metadata": {
    "collapsed": false,
    "pycharm": {
     "name": "#%% md\n"
    }
   }
  },
  {
   "cell_type": "code",
   "execution_count": null,
   "outputs": [],
   "source": [
    "from mindspore.dataset import GeneratorDataset\n",
    "import mindspore.dataset.vision as vision\n",
    "import mindspore.dataset.transforms as transforms\n",
    "from mindspore import dtype as mstype\n",
    "# 注意没有使用Mindspore提供的ImageFloder进行加载，原因是调试任务中'.ipynb_checkpoints'缓存文件夹会被当作类文件夹进行识别，导致数据集加载错误\n",
    "class Iterable:\n",
    "    def __init__(self,data_path):\n",
    "        self._data = []\n",
    "        self._label = []\n",
    "        self._error_list = []\n",
    "        if data_path.endswith(('JPG','jpg','png','PNG')):\n",
    "            # 用作推理，所以没有label\n",
    "            image = Image.open(data_path)\n",
    "            self._data.append(image)\n",
    "            self._label.append(0)\n",
    "        else:\n",
    "            classes = os.listdir(data_path)\n",
    "            if '.ipynb_checkpoints' in classes:\n",
    "                classes.remove('.ipynb_checkpoints')\n",
    "            for (i,class_name) in enumerate(classes):\n",
    "                new_path =  data_path+\"/\"+class_name\n",
    "                for image_name in os.listdir(new_path):\n",
    "                    try:\n",
    "                        image = Image.open(new_path + \"/\" + image_name)\n",
    "                        self._data.append(image)\n",
    "                        self._label.append(i)\n",
    "                    except:\n",
    "                        pass\n",
    "                \n",
    "\n",
    "    def __getitem__(self, index):\n",
    "        return self._data[index], self._label[index]\n",
    "\n",
    "    def __len__(self):\n",
    "        return len(self._data)\n",
    "    \n",
    "    def get_error_list(self,):\n",
    "        return self._error_list\n",
    "    \n",
    "def create_dataset_zhongyao(dataset_dir,usage,resize,batch_size,workers):\n",
    "    data = Iterable(dataset_dir)\n",
    "    data_set = GeneratorDataset(data,column_names=['image','label'])\n",
    "    trans = []\n",
    "    if usage == \"train\":\n",
    "        trans += [\n",
    "            vision.RandomCrop(700, (4, 4, 4, 4)),\n",
    "            # 这里随机裁剪尺度可以设置\n",
    "            vision.RandomHorizontalFlip(prob=0.5)\n",
    "        ]\n",
    "\n",
    "    trans += [\n",
    "        vision.Resize((resize,resize)),\n",
    "        vision.Rescale(1.0 / 255.0, 0.0),\n",
    "        vision.Normalize([0.4914, 0.4822, 0.4465], [0.2023, 0.1994, 0.2010]),\n",
    "        vision.HWC2CHW()\n",
    "    ]\n",
    "\n",
    "    target_trans = transforms.TypeCast(mstype.int32)\n",
    "    # 数据映射操作\n",
    "    data_set = data_set.map(\n",
    "        operations=trans,\n",
    "        input_columns='image',\n",
    "        num_parallel_workers=workers)\n",
    "\n",
    "    data_set = data_set.map(\n",
    "        operations=target_trans,\n",
    "        input_columns='label',\n",
    "        num_parallel_workers=workers)\n",
    "\n",
    "    # 批量操作\n",
    "    data_set = data_set.batch(batch_size,drop_remainder=True)\n",
    "\n",
    "    return data_set"
   ],
   "metadata": {
    "collapsed": false,
    "pycharm": {
     "name": "#%%\n"
    }
   }
  },
  {
   "cell_type": "markdown",
   "source": [
    "#### **加载数据**\n",
    "对数据集使用定义好的方式进行加载。"
   ],
   "metadata": {
    "collapsed": false,
    "pycharm": {
     "name": "#%% md\n"
    }
   }
  },
  {
   "cell_type": "code",
   "execution_count": null,
   "outputs": [],
   "source": [
    "import mindspore as ms\n",
    "import random\n",
    "data_dir = \"dataset1/zhongyiyao\"\n",
    "train_dir = data_dir+\"/\"+\"train\"\n",
    "valid_dir = data_dir+\"/\"+\"valid\"\n",
    "test_dir = data_dir+\"/\"+\"test\"\n",
    "batch_size = 32 # 批量大小\n",
    "image_size = 224 # 训练图像空间大小\n",
    "workers = 4 # 并行线程个数\n",
    "num_classes = 12 # 分类数量\n",
    "\n",
    "\n",
    "# 设置随机种子，使得模型结果复现\n",
    "seed = 42\n",
    "ms.set_seed(seed)\n",
    "np.random.seed(seed)\n",
    "random.seed(seed)\n",
    "\n",
    "dataset_train = create_dataset_zhongyao(dataset_dir=train_dir,\n",
    "                                       usage=\"train\",\n",
    "                                       resize=image_size,\n",
    "                                       batch_size=batch_size,\n",
    "                                       workers=workers)\n",
    "step_size_train = dataset_train.get_dataset_size()\n",
    "\n",
    "dataset_val = create_dataset_zhongyao(dataset_dir=valid_dir,\n",
    "                                     usage=\"valid\",\n",
    "                                     resize=image_size,\n",
    "                                     batch_size=batch_size,\n",
    "                                     workers=workers)\n",
    "dataset_test = create_dataset_zhongyao(dataset_dir=test_dir,\n",
    "                                     usage=\"test\",\n",
    "                                     resize=image_size,\n",
    "                                     batch_size=batch_size,\n",
    "                                     workers=workers)\n",
    "step_size_val = dataset_val.get_dataset_size()\n",
    "\n",
    "print(f'训练集数据：{dataset_train.get_dataset_size()*batch_size}\\n')\n",
    "print(f'验证集数据：{dataset_val.get_dataset_size()*batch_size}\\n')\n",
    "print(f'测试集数据：{dataset_test.get_dataset_size()*batch_size}\\n')"
   ],
   "metadata": {
    "collapsed": false,
    "pycharm": {
     "name": "#%%\n"
    }
   }
  },
  {
   "cell_type": "markdown",
   "source": [
    "#### **类别标签说明**\n",
    "由于平台字体问题，无法正确显示中文，这里给出英文标签对应的类别：\n",
    "- ph-sp：蒲黄-生品\n",
    "- ph_bj：蒲黄-不及\n",
    "- ph_sz：蒲黄-适中\n",
    "- ph_tg：蒲黄-太过\n",
    "- sz_sp：山楂-生品\n",
    "- sz_bj：山楂-不及\n",
    "- sz_sz：山楂-适中\n",
    "- sz_tg：山楂-太过\n",
    "- wblx_sp：王不留行-生品\n",
    "- wblx_bj：王不留行-不及\n",
    "- wblx_sz：王不留行-适中\n",
    "- wblx_tg：王不留行-太过"
   ],
   "metadata": {
    "collapsed": false,
    "pycharm": {
     "name": "#%% md\n"
    }
   }
  },
  {
   "cell_type": "code",
   "execution_count": null,
   "outputs": [],
   "source": [
    "#index_label的映射\n",
    "index_label_dict = {}\n",
    "classes = os.listdir(train_dir)\n",
    "if '.ipynb_checkpoints' in classes:\n",
    "    classes.remove('.ipynb_checkpoints')\n",
    "for i,label in enumerate(classes):\n",
    "    index_label_dict[i] = label\n",
    "label2chin = {'ph_sp':'蒲黄-生品',  'ph_bj':'蒲黄-不及', 'ph_sz':'蒲黄-适中', 'ph_tg':'蒲黄-太过', 'sz_sp':'山楂-生品',\n",
    "              'sz_bj':'山楂-不及', 'sz_sz':'山楂-适中', 'sz_tg':'山楂-太过', 'wblx_sp':'王不留行-生品', 'wblx_bj':'王不留行-不及',\n",
    "              'wblx_sz':'王不留行-适中', 'wblx_tg':'王不留行-太过'}\n",
    "index_label_dict"
   ],
   "metadata": {
    "collapsed": false,
    "pycharm": {
     "name": "#%%\n"
    }
   }
  },
  {
   "cell_type": "markdown",
   "source": [
    "#### **数据可视化展示**\n",
    "对已经加载好的数据集，选取部分数据展示。"
   ],
   "metadata": {
    "collapsed": false,
    "pycharm": {
     "name": "#%% md\n"
    }
   }
  },
  {
   "cell_type": "code",
   "execution_count": null,
   "outputs": [],
   "source": [
    "import matplotlib.pyplot as plt\n",
    "plt.rc('font',family='YouYuan')\n",
    "import numpy as np\n",
    "\n",
    "data_iter = next(dataset_val.create_dict_iterator())\n",
    "\n",
    "images = data_iter[\"image\"].asnumpy()\n",
    "labels = data_iter[\"label\"].asnumpy()\n",
    "print(f\"Image shape: {images.shape}, Label: {labels}\")\n"
   ],
   "metadata": {
    "collapsed": false,
    "pycharm": {
     "name": "#%%\n"
    }
   }
  },
  {
   "cell_type": "code",
   "execution_count": null,
   "outputs": [],
   "source": [
    "# 设置中文\n",
    "plt.figure(figsize=(12, 5))\n",
    "for i in range(24):\n",
    "    plt.subplot(3, 8, i+1)\n",
    "    image_trans = np.transpose(images[i], (1, 2, 0))\n",
    "    mean = np.array([0.4914, 0.4822, 0.4465])\n",
    "    std = np.array([0.2023, 0.1994, 0.2010])\n",
    "    image_trans = std * image_trans + mean\n",
    "    image_trans = np.clip(image_trans, 0, 1)\n",
    "    plt.title(index_label_dict[labels[i]])\n",
    "    plt.imshow(image_trans)\n",
    "    plt.axis(\"off\")\n",
    "plt.show()"
   ],
   "metadata": {
    "collapsed": false,
    "pycharm": {
     "name": "#%%\n"
    }
   }
  },
  {
   "cell_type": "markdown",
   "source": [
    "### **创建分类网络**\n",
    "当处理完数据后，就可以来进行网络的搭建了。我们使用经典的Resnet50作为基础模型，模型由MindSpore框架编写，我们在此基础上进行了修改，将最后一层的输出改为类别数12，以适应我们的数据集。\n",
    "\n",
    "#### **模型结构展示**\n",
    "\n",
    "<img src=\"../7.案例中使用的图片/image-20230630095910087.png\" alt=\"image-20230630095910087\" style=\"zoom:80%;\" />"
   ],
   "metadata": {
    "collapsed": false,
    "pycharm": {
     "name": "#%% md\n"
    }
   }
  },
  {
   "cell_type": "markdown",
   "source": [
    "#### **构建残差网络结构**\n",
    "残差结构是ResNet网络中最重要的结构，其结构图如下图所示，残差网络由两个分支构成：一个主分支，一个shortcuts（图中弧线表示）。主分支通过堆叠一系列的卷积操作得到，shortcuts从输入直接到输出，主分支的输出与shortcuts的输出相加后通过Relu激活函数后即为残差网络最后的输出。<br>\n",
    "<img src=\"../7.案例中使用的图片/image-20230804113155.png\" alt=\"image-20230630102435999\" style=\"zoom:67%;\" width=\"40%\"/>\n",
    "\n",
    "残差网络结构主要由两种，一种是Building Block，适用于较浅的ResNet网络，如ResNet18和ResNet34；另一种是Bottleneck，适用于层数较深的ResNet网络，如ResNet50、ResNet101和ResNet152。"
   ],
   "metadata": {
    "collapsed": false,
    "pycharm": {
     "name": "#%% md\n"
    }
   }
  },
  {
   "cell_type": "markdown",
   "source": [
    "#### **定义 Building Block**\n",
    "Building Block结构图如下图所示，主分支有两层卷积网络结构：\n",
    "\n",
    "- 主分支第一层网络以输入channel为64为例，首先通过一个3×3的卷积层，然后通过Batch Normalization层，最后通过Relu激活函数层，输出channel为64；\n",
    "\n",
    "- 主分支第二层网络的输入channel为64，首先通过一个3×3的卷积层，然后通过Batch Normalization层，输出channel为64。\n",
    "\n",
    "最后将主分支输出的特征矩阵与shortcuts输出的特征矩阵相加，通过Relu激活函数即为Building Block最后的输出。<br>\n",
    "<img src=\"../7.案例中使用的图片/image-20230804114627.png\" alt=\"image-20230630102435999\" style=\"zoom:67%;\" width=\"30%\" />"
   ],
   "metadata": {
    "collapsed": false,
    "pycharm": {
     "name": "#%% md\n"
    }
   }
  },
  {
   "cell_type": "code",
   "execution_count": null,
   "outputs": [],
   "source": [
    "from mindspore import Model\n",
    "from mindspore import context\n",
    "import mindspore.ops as ops\n",
    "from mindspore import Tensor, nn, set_context, GRAPH_MODE, train\n",
    "from mindspore import load_checkpoint, load_param_into_net\n",
    "from typing import Type, Union, List, Optional\n",
    "from mindspore import nn, train\n",
    "from mindspore.common.initializer import Normal\n",
    "\n",
    "\n",
    "weight_init = Normal(mean=0, sigma=0.02)\n",
    "gamma_init = Normal(mean=1, sigma=0.02)\n",
    "\n",
    "class ResidualBlockBase(nn.Cell):\n",
    "    expansion: int = 1  # 最后一个卷积核数量与第一个卷积核数量相等\n",
    "\n",
    "    def __init__(self, in_channel: int, out_channel: int,\n",
    "                 stride: int = 1, norm: Optional[nn.Cell] = None,\n",
    "                 down_sample: Optional[nn.Cell] = None) -> None:\n",
    "        super(ResidualBlockBase, self).__init__()\n",
    "        if not norm:\n",
    "            self.norm = nn.BatchNorm2d(out_channel)\n",
    "        else:\n",
    "            self.norm = norm\n",
    "\n",
    "        self.conv1 = nn.Conv2d(in_channel, out_channel,\n",
    "                               kernel_size=3, stride=stride,\n",
    "                               weight_init=weight_init)\n",
    "        self.conv2 = nn.Conv2d(in_channel, out_channel,\n",
    "                               kernel_size=3, weight_init=weight_init)\n",
    "        self.relu = nn.ReLU()\n",
    "        self.down_sample = down_sample\n",
    "\n",
    "    def construct(self, x):\n",
    "        \"\"\"ResidualBlockBase construct.\"\"\"\n",
    "        identity = x  # shortcuts分支\n",
    "\n",
    "        out = self.conv1(x)  # 主分支第一层：3*3卷积层\n",
    "        out = self.norm(out)\n",
    "        out = self.relu(out)\n",
    "        out = self.conv2(out)  # 主分支第二层：3*3卷积层\n",
    "        out = self.norm(out)\n",
    "\n",
    "        if self.down_sample is not None:\n",
    "            identity = self.down_sample(x)\n",
    "        out += identity  # 输出为主分支与shortcuts之和\n",
    "        out = self.relu(out)\n",
    "\n",
    "        return out\n"
   ],
   "metadata": {
    "collapsed": false,
    "pycharm": {
     "name": "#%%\n"
    }
   }
  },
  {
   "cell_type": "code",
   "execution_count": null,
   "outputs": [],
   "source": [
    "#### **定义 Bottleneck**\n",
    "Bottleneck结构图如下图所示，在输入相同的情况下Bottleneck结构相对Building Block结构的参数数量更少，更适合层数较深的网络，ResNet50使用的残差结构就是Bottleneck。该结构的主分支有三层卷积结构，分别为1×1的卷积层、3×3卷积层和\n",
    "1×1的卷积层，其中1×1的卷积层分别起降维和升维的作用。\n",
    "\n",
    "- 主分支第一层网络以输入channel为256为例，首先通过数量为64，大小为的卷积核进行降维，然后通过Batch Normalization层，最后通过Relu激活函数层，其输出channel为64；\n",
    "\n",
    "- 主分支第二层网络通过数量为64，大小为的卷积核提取特征，然后通过Batch Normalization层，最后通过Relu激活函数层，其输出channel为64；\n",
    "\n",
    "- 主分支第三层通过数量为256，大小的卷积核进行升维，然后通过Batch Normalization层，其输出channel为256。\n",
    "\n",
    "最后将主分支输出的特征矩阵与shortcuts输出的特征矩阵相加，通过Relu激活函数即为Bottleneck最后的输出。<br>\n",
    "<img src=\"../7.案例中使用的图片/image-20230804115129.png\" alt=\"image-20230630102435999\" style=\"zoom:67%;\" width=\"30%\"/>"
   ],
   "metadata": {
    "collapsed": false,
    "pycharm": {
     "name": "#%%\n"
    }
   }
  },
  {
   "cell_type": "code",
   "execution_count": null,
   "outputs": [],
   "source": [
    "class ResidualBlock(nn.Cell):\n",
    "    expansion = 4  # 最后一个卷积核的数量是第一个卷积核数量的4倍\n",
    "\n",
    "    def __init__(self, in_channel: int, out_channel: int,\n",
    "                 stride: int = 1, down_sample: Optional[nn.Cell] = None) -> None:\n",
    "        super(ResidualBlock, self).__init__()\n",
    "\n",
    "        self.conv1 = nn.Conv2d(in_channel, out_channel,\n",
    "                               kernel_size=1, weight_init=weight_init)\n",
    "        self.norm1 = nn.BatchNorm2d(out_channel)\n",
    "        self.conv2 = nn.Conv2d(out_channel, out_channel,\n",
    "                               kernel_size=3, stride=stride,\n",
    "                               weight_init=weight_init)\n",
    "        self.norm2 = nn.BatchNorm2d(out_channel)\n",
    "        self.conv3 = nn.Conv2d(out_channel, out_channel * self.expansion,\n",
    "                               kernel_size=1, weight_init=weight_init)\n",
    "        self.norm3 = nn.BatchNorm2d(out_channel * self.expansion)\n",
    "\n",
    "        self.relu = nn.ReLU()\n",
    "        self.down_sample = down_sample\n",
    "\n",
    "    def construct(self, x):\n",
    "\n",
    "        identity = x  # shortscuts分支\n",
    "\n",
    "        out = self.conv1(x)  # 主分支第一层：1*1卷积层\n",
    "        out = self.norm1(out)\n",
    "        out = self.relu(out)\n",
    "        out = self.conv2(out)  # 主分支第二层：3*3卷积层\n",
    "        out = self.norm2(out)\n",
    "        out = self.relu(out)\n",
    "        out = self.conv3(out)  # 主分支第三层：1*1卷积层\n",
    "        out = self.norm3(out)\n",
    "\n",
    "        if self.down_sample is not None:\n",
    "            identity = self.down_sample(x)\n",
    "\n",
    "        out += identity  # 输出为主分支与shortcuts之和\n",
    "        out = self.relu(out)\n",
    "\n",
    "        return out"
   ],
   "metadata": {
    "collapsed": false,
    "pycharm": {
     "name": "#%%\n"
    }
   }
  },
  {
   "cell_type": "markdown",
   "source": [
    "#### **构建ResNet网络**\n",
    "ResNet网络由基本的Building Block/Bottleneck块堆叠而成，我们将重复的结构定义为残差网络块。"
   ],
   "metadata": {
    "collapsed": false,
    "pycharm": {
     "name": "#%% md\n"
    }
   }
  },
  {
   "cell_type": "code",
   "execution_count": null,
   "outputs": [],
   "source": [
    "def make_layer(last_out_channel, block: Type[Union[ResidualBlockBase, ResidualBlock]],\n",
    "               channel: int, block_nums: int, stride: int = 1):\n",
    "    down_sample = None  # shortcuts分支\n",
    "\n",
    "\n",
    "    if stride != 1 or last_out_channel != channel * block.expansion:\n",
    "\n",
    "        down_sample = nn.SequentialCell([\n",
    "            nn.Conv2d(last_out_channel, channel * block.expansion,\n",
    "                      kernel_size=1, stride=stride, weight_init=weight_init),\n",
    "            nn.BatchNorm2d(channel * block.expansion, gamma_init=gamma_init)\n",
    "        ])\n",
    "\n",
    "    layers = []\n",
    "    layers.append(block(last_out_channel, channel, stride=stride, down_sample=down_sample))\n",
    "\n",
    "    in_channel = channel * block.expansion\n",
    "    # 堆叠残差网络\n",
    "    for _ in range(1, block_nums):\n",
    "\n",
    "        layers.append(block(in_channel, channel))\n",
    "\n",
    "    return nn.SequentialCell(layers)"
   ],
   "metadata": {
    "collapsed": false,
    "pycharm": {
     "name": "#%%\n"
    }
   }
  },
  {
   "cell_type": "code",
   "execution_count": null,
   "outputs": [],
   "source": [
    "from mindspore import load_checkpoint, load_param_into_net\n",
    "from mindspore import ops\n",
    "\n",
    "\n",
    "class ResNet(nn.Cell):\n",
    "    def __init__(self, block: Type[Union[ResidualBlockBase, ResidualBlock]],\n",
    "                 layer_nums: List[int], num_classes: int, input_channel: int) -> None:\n",
    "        super(ResNet, self).__init__()\n",
    "\n",
    "        self.relu = nn.ReLU()\n",
    "        # 第一个卷积层，输入channel为3（彩色图像），输出channel为64\n",
    "        self.conv1 = nn.Conv2d(3, 64, kernel_size=7, stride=2, weight_init=weight_init)\n",
    "        self.norm = nn.BatchNorm2d(64)\n",
    "        # 最大池化层，缩小图片的尺寸\n",
    "        self.max_pool = nn.MaxPool2d(kernel_size=3, stride=2, pad_mode='same')\n",
    "        # 各个残差网络结构块定义\n",
    "        self.layer1 = make_layer(64, block, 64, layer_nums[0])\n",
    "        self.layer2 = make_layer(64 * block.expansion, block, 128, layer_nums[1], stride=2)\n",
    "        self.layer3 = make_layer(128 * block.expansion, block, 256, layer_nums[2], stride=2)\n",
    "        self.layer4 = make_layer(256 * block.expansion, block, 512, layer_nums[3], stride=2)\n",
    "        # 平均池化层\n",
    "        self.avg_pool = ops.ReduceMean(keep_dims=True)\n",
    "        # self.avg_pool = nn.AvgPool2d()\n",
    "        \n",
    "        # flattern层\n",
    "        self.flatten = nn.Flatten()\n",
    "        # 全连接层\n",
    "        self.fc = nn.Dense(in_channels=input_channel, out_channels=num_classes)\n",
    "\n",
    "    def construct(self, x):\n",
    "        \n",
    "        x = self.conv1(x)\n",
    "        x = self.norm(x)\n",
    "        x = self.relu(x)\n",
    "        x = self.max_pool(x)\n",
    "\n",
    "        x = self.layer1(x)\n",
    "        x = self.layer2(x)\n",
    "        x = self.layer3(x)\n",
    "        x = self.layer4(x)\n",
    "\n",
    "        x = self.avg_pool(x,(2,3))\n",
    "        \n",
    "        x = self.flatten(x)\n",
    "        x = self.fc(x)\n",
    "\n",
    "        return x"
   ],
   "metadata": {
    "collapsed": false,
    "pycharm": {
     "name": "#%%\n"
    }
   }
  },
  {
   "cell_type": "code",
   "execution_count": null,
   "outputs": [],
   "source": [
    "def _resnet(model_url: str, block: Type[Union[ResidualBlockBase, ResidualBlock]],\n",
    "            layers: List[int], num_classes: int, pretrained: bool, pretrained_ckpt: str,\n",
    "            input_channel: int):\n",
    "    model = ResNet(block, layers, num_classes, input_channel)\n",
    "\n",
    "    if pretrained:\n",
    "        # 加载预训练模型\n",
    "        download(url=model_url, path=pretrained_ckpt)\n",
    "        param_dict = load_checkpoint(pretrained_ckpt)\n",
    "        load_param_into_net(model, param_dict)\n",
    "\n",
    "    return model\n",
    "\n",
    "\n",
    "def resnet50(num_classes: int = 1000, pretrained: bool = False):\n",
    "    resnet50_url = \"https://obs.dualstack.cn-north-4.myhuaweicloud.com/mindspore-website/notebook/models/application/resnet50_224_new.ckpt\"\n",
    "    resnet50_ckpt = \"./LoadPretrainedModel/resnet50_224_new.ckpt\"\n",
    "    return _resnet(resnet50_url, ResidualBlock, [3, 4, 6, 3], num_classes,\n",
    "                   pretrained, resnet50_ckpt, 2048)\n"
   ],
   "metadata": {
    "collapsed": false,
    "pycharm": {
     "name": "#%%\n"
    }
   }
  },
  {
   "cell_type": "markdown",
   "source": [
    "#### **ResNet分类模型初始化**\n",
    "模型定义完成后，实例化ResNet分类模型"
   ],
   "metadata": {
    "collapsed": false,
    "pycharm": {
     "name": "#%% md\n"
    }
   }
  },
  {
   "cell_type": "code",
   "execution_count": null,
   "outputs": [],
   "source": [
    "network = resnet50(pretrained=True)\n",
    "num_class = 12\n",
    "# 全连接层输入层的大小\n",
    "in_channel = network.fc.in_channels\n",
    "fc = nn.Dense(in_channels=in_channel, out_channels=num_class)\n",
    "# 重置全连接层\n",
    "network.fc = fc\n",
    "\n",
    "for param in network.get_parameters():\n",
    "    param.requires_grad = True\n"
   ],
   "metadata": {
    "collapsed": false,
    "pycharm": {
     "name": "#%%\n"
    }
   }
  },
  {
   "cell_type": "markdown",
   "source": [
    "### **模型训练**\n"
   ],
   "metadata": {
    "collapsed": false,
    "pycharm": {
     "name": "#%% md\n"
    }
   }
  },
  {
   "cell_type": "markdown",
   "source": [
    "#### **定义训练参数**\n",
    "\n",
    "我们设置epoch为50,Momentum作为优化器，其中参数momentum设为0.9，而损失函数则采用SoftmaxCrossEntropyWithLogits。"
   ],
   "metadata": {
    "collapsed": false,
    "pycharm": {
     "name": "#%% md\n"
    }
   }
  },
  {
   "cell_type": "code",
   "execution_count": null,
   "outputs": [],
   "source": [
    "num_epochs = 50\n",
    "# early stopping\n",
    "patience = 5\n",
    "lr = nn.cosine_decay_lr(min_lr=0.00001, max_lr=0.001, total_step=step_size_train * num_epochs,\n",
    "                        step_per_epoch=step_size_train, decay_epoch=num_epochs)\n",
    "opt = nn.Momentum(params=network.trainable_params(), learning_rate=lr, momentum=0.9)\n",
    "loss_fn = nn.SoftmaxCrossEntropyWithLogits(sparse=True, reduction='mean')\n",
    "model = ms.Model(network, loss_fn, opt, metrics={'acc'})\n",
    "\n",
    "# 最佳模型存储路径\n",
    "best_acc = 0\n",
    "best_ckpt_dir = \"./BestCheckpoint\"\n",
    "best_ckpt_path = \"./BestCheckpoint/resnet50-best.ckpt\""
   ],
   "metadata": {
    "collapsed": false,
    "pycharm": {
     "name": "#%%\n"
    }
   }
  },
  {
   "cell_type": "markdown",
   "source": [
    "#### **定义训练推理函数**"
   ],
   "metadata": {
    "collapsed": false,
    "pycharm": {
     "name": "#%% md\n"
    }
   }
  },
  {
   "cell_type": "code",
   "execution_count": null,
   "outputs": [],
   "source": [
    "def train_loop(model, dataset, loss_fn, optimizer):\n",
    "    # Define forward function\n",
    "    def forward_fn(data, label):\n",
    "        logits = model(data)\n",
    "        loss = loss_fn(logits, label)\n",
    "        return loss, logits\n",
    "\n",
    "    # Get gradient function\n",
    "    grad_fn = ms.ops.value_and_grad(forward_fn, None, optimizer.parameters, has_aux=True)\n",
    "\n",
    "    # Define function of one-step training\n",
    "    def train_step(data, label):\n",
    "        (loss, _), grads = grad_fn(data, label)\n",
    "        loss = ops.depend(loss, optimizer(grads))\n",
    "        return loss\n",
    "\n",
    "    size = dataset.get_dataset_size()\n",
    "    model.set_train()\n",
    "    for batch, (data, label) in enumerate(dataset.create_tuple_iterator()):\n",
    "        loss = train_step(data, label)\n",
    "\n",
    "        if batch % 100 == 0 or batch == step_size_train - 1:\n",
    "            loss, current = loss.asnumpy(), batch\n",
    "            print(f\"loss: {loss:>7f}  [{current:>3d}/{size:>3d}]\")\n",
    "\n",
    "from sklearn.metrics import classification_report\n",
    "\n",
    "def test_loop(model, dataset, loss_fn):\n",
    "    num_batches = dataset.get_dataset_size()\n",
    "    model.set_train(False)\n",
    "    total, test_loss, correct = 0, 0, 0\n",
    "    y_true = []\n",
    "    y_pred = []\n",
    "    for data, label in dataset.create_tuple_iterator():\n",
    "        y_true.extend(label.asnumpy().tolist())\n",
    "        pred = model(data)\n",
    "        total += len(data)\n",
    "        test_loss += loss_fn(pred, label).asnumpy()\n",
    "        y_pred.extend(pred.argmax(1).asnumpy().tolist())\n",
    "        correct += (pred.argmax(1) == label).asnumpy().sum()\n",
    "    test_loss /= num_batches\n",
    "    correct /= total\n",
    "    print(f\"Test: \\n Accuracy: {(100*correct):>0.1f}%, Avg loss: {test_loss:>8f} \\n\")\n",
    "    print(classification_report(y_true,y_pred,target_names= list(index_label_dict.values()),digits=3))\n",
    "    return correct,test_loss\n"
   ],
   "metadata": {
    "collapsed": false,
    "pycharm": {
     "name": "#%%\n"
    }
   }
  },
  {
   "cell_type": "markdown",
   "source": [
    "#### **开始训练**\n",
    "\n",
    "在每个训练轮次中，使用训练集进行模型训练，并计算交叉熵损失以更新参数。随后在验证集上对模型进行测试，并以\"accuracy\"作为评价指标来评估模型的性能。为了防止过拟合，我们引入了早停机制，通过监控验证集上的指标，及时停止训练以避免过拟合，并保存具有最佳性能的模型参数。通过这样的训练过程，我们期望模型能够逐渐优化，并达到更好的性能水平。\n"
   ],
   "metadata": {
    "collapsed": false,
    "pycharm": {
     "name": "#%% md\n"
    }
   }
  },
  {
   "cell_type": "code",
   "execution_count": null,
   "outputs": [],
   "source": [
    "no_improvement_count = 0\n",
    "acc_list = []\n",
    "loss_list = []\n",
    "stop_epoch = num_epochs\n",
    "for t in range(num_epochs):\n",
    "    print(f\"Epoch {t+1}\\n-------------------------------\")\n",
    "    train_loop(network, dataset_train, loss_fn, opt)\n",
    "    acc,loss = test_loop(network, dataset_val, loss_fn)\n",
    "    acc_list.append(acc)\n",
    "    loss_list.append(loss)\n",
    "    if acc > best_acc:\n",
    "        best_acc = acc\n",
    "        if not os.path.exists(best_ckpt_dir):\n",
    "            os.mkdir(best_ckpt_dir)\n",
    "        ms.save_checkpoint(network, best_ckpt_path)\n",
    "        no_improvement_count = 0\n",
    "    else:\n",
    "        no_improvement_count += 1\n",
    "        if no_improvement_count > patience:\n",
    "            print('Early stopping triggered. Restoring best weights...')\n",
    "            stop_epoch = t\n",
    "            break \n",
    "print(\"Done!\")\n"
   ],
   "metadata": {
    "collapsed": false,
    "pycharm": {
     "name": "#%%\n"
    }
   }
  },
  {
   "cell_type": "markdown",
   "source": [
    "#### **结果可视化展示**"
   ],
   "metadata": {
    "collapsed": false,
    "pycharm": {
     "name": "#%% md\n"
    }
   }
  },
  {
   "cell_type": "code",
   "execution_count": null,
   "outputs": [],
   "source": [
    "import matplotlib.pyplot as plt\n",
    "\n",
    "def plot_training_process(acc_list, loss_list):\n",
    "    epochs = range(1, len(acc_list) + 1)\n",
    "    plt.figure(figsize=(10, 7))\n",
    "    # 绘制准确率曲线\n",
    "    plt.subplot(121)\n",
    "    plt.plot(epochs, acc_list, 'b-', label='Training Accuracy')\n",
    "    plt.title('Training Accuracy')\n",
    "    plt.xlabel('Epochs')\n",
    "    plt.ylabel('Accuracy')\n",
    "    plt.legend()\n",
    "\n",
    "    # 绘制损失函数曲线\n",
    "    plt.subplot(122)\n",
    "    plt.plot(epochs, loss_list, 'r-', label='Training Loss')\n",
    "    plt.title('Training Loss')\n",
    "    plt.xlabel('Epochs')\n",
    "    plt.ylabel('Loss')\n",
    "    plt.legend()\n",
    "\n",
    "    # 调整子图间距\n",
    "    plt.subplots_adjust(wspace=0.4)\n",
    "\n",
    "    # 显示图像\n",
    "    plt.show()\n",
    "\n",
    "# 调用函数绘制训练过程图\n",
    "plot_training_process(acc_list, loss_list)\n"
   ],
   "metadata": {
    "collapsed": false,
    "pycharm": {
     "name": "#%%\n"
    }
   }
  },
  {
   "cell_type": "markdown",
   "source": [
    "### **模型推理**\n",
    "在模型推理阶段，我们提供了两种预测推理方式：单张图片推理和数据集推理方式"
   ],
   "metadata": {
    "collapsed": false,
    "pycharm": {
     "name": "#%% md\n"
    }
   }
  },
  {
   "cell_type": "markdown",
   "source": [
    "#### **加载模型**\n",
    "首先加载训练好了的最佳模型权重。"
   ],
   "metadata": {
    "collapsed": false,
    "pycharm": {
     "name": "#%% md\n"
    }
   }
  },
  {
   "cell_type": "code",
   "execution_count": null,
   "outputs": [],
   "source": [
    "import matplotlib.pyplot as plt\n",
    "\n",
    "num_class = 12  # \n",
    "net = resnet50(num_class)\n",
    "best_ckpt_path = 'BestCheckpoint/resnet50-best.ckpt'\n",
    "# 加载模型参数\n",
    "param_dict = ms.load_checkpoint(best_ckpt_path)\n",
    "ms.load_param_into_net(net, param_dict)\n",
    "model = ms.Model(net)\n",
    "image_size = 224\n",
    "workers = 1"
   ],
   "metadata": {
    "collapsed": false,
    "pycharm": {
     "name": "#%%\n"
    }
   }
  },
  {
   "cell_type": "markdown",
   "source": [
    "#### **通过传入图片路径进行推理**\n",
    "给定单张图片的路径推理预测分类结果"
   ],
   "metadata": {
    "collapsed": false,
    "pycharm": {
     "name": "#%% md\n"
    }
   }
  },
  {
   "cell_type": "code",
   "execution_count": null,
   "outputs": [],
   "source": [
    "def predict_one(input_img):\n",
    "    # 加载验证集的数据进行验证\n",
    "    dataset_one = create_dataset_zhongyao(dataset_dir=input_img,\n",
    "                                       usage=\"test\",\n",
    "                                       resize=image_size,\n",
    "                                       batch_size=1,\n",
    "                                       workers=workers)\n",
    "    data = next(dataset_one.create_tuple_iterator())\n",
    "    # print(data)\n",
    "    images = data[0].asnumpy()\n",
    "    labels = data[1].asnumpy()\n",
    "    # 预测图像类别\n",
    "    output = model.predict(ms.Tensor(data[0]))\n",
    "    pred = np.argmax(output.asnumpy(), axis=1)\n",
    "    # print(f'预测结果：{index_label_dict[pred[0]]}')\n",
    "    return index_label_dict[pred[0]]"
   ],
   "metadata": {
    "collapsed": false,
    "pycharm": {
     "name": "#%%\n"
    }
   }
  },
  {
   "cell_type": "code",
   "execution_count": null,
   "outputs": [],
   "source": [
    "input_img = \"dataset1/zhongyiyao/train/sz_tg/IMG_6002.JPG\"\n",
    "print(predict_one(input_img))"
   ],
   "metadata": {
    "collapsed": false,
    "pycharm": {
     "name": "#%%\n"
    }
   }
  },
  {
   "cell_type": "markdown",
   "source": [
    "#### **通过传入测试数据集进行推理**\n",
    "直接给定测试数据集，模型将对数据集中的样本进行预测，并生成可视化展示来呈现推理结果。"
   ],
   "metadata": {
    "collapsed": false,
    "pycharm": {
     "name": "#%% md\n"
    }
   }
  },
  {
   "cell_type": "code",
   "execution_count": null,
   "outputs": [],
   "source": [
    "def visualize_model(dataset_test):\n",
    "    # 加载验证集的数据进行验证\n",
    "    data = next(dataset_test.create_tuple_iterator())\n",
    "    # print(data)\n",
    "    images = data[0].asnumpy()\n",
    "    labels = data[1].asnumpy()\n",
    "    # 预测图像类别\n",
    "    output = model.predict(ms.Tensor(data[0]))\n",
    "    pred = np.argmax(output.asnumpy(), axis=1)\n",
    "\n",
    "    # 显示图像及图像的预测值\n",
    "    plt.figure(figsize=(10, 6))\n",
    "    for i in range(6):\n",
    "        plt.subplot(2, 3, i+1)\n",
    "        color = 'blue' if pred[i] == labels[i] else 'red'\n",
    "        plt.title('predict:{}  actual:{}'.format(index_label_dict[pred[i]],index_label_dict[labels[i]]), color=color)\n",
    "        picture_show = np.transpose(images[i], (1, 2, 0))\n",
    "        mean = np.array([0.4914, 0.4822, 0.4465])\n",
    "        std = np.array([0.2023, 0.1994, 0.2010])\n",
    "        picture_show = std * picture_show + mean\n",
    "        picture_show = np.clip(picture_show, 0, 1)\n",
    "        plt.imshow(picture_show)\n",
    "        plt.axis('off')\n",
    "\n",
    "    plt.show()\n"
   ],
   "metadata": {
    "collapsed": false,
    "pycharm": {
     "name": "#%%\n"
    }
   }
  },
  {
   "cell_type": "code",
   "execution_count": null,
   "outputs": [],
   "source": [
    "visualize_model(dataset_val)"
   ],
   "metadata": {
    "collapsed": false,
    "pycharm": {
     "name": "#%%\n"
    }
   }
  },
  {
   "cell_type": "markdown",
   "source": [
    "### **参考文献**\n",
    "[1] He, K., Zhang, X., Ren, S., & Sun, J. (2016). Deep residual learning for image recognition. In Proceedings of the IEEE conference on computer vision and pattern recognition (pp. 770-778)."
   ],
   "metadata": {
    "collapsed": false,
    "pycharm": {
     "name": "#%% md\n"
    }
   }
  },
  {
   "cell_type": "markdown",
   "id": "c4356845-ee65-4cf6-bb91-9abe3b2db088",
   "metadata": {
    "pycharm": {
     "name": "#%% md\n"
    }
   },
   "source": [
    "#### **定义训练推理函数**"
   ]
  },
  {
   "cell_type": "code",
   "execution_count": 16,
   "id": "9d239ed5-536c-4e63-b391-61d9a6dd131d",
   "metadata": {
    "pycharm": {
     "name": "#%%\n"
    }
   },
   "outputs": [],
   "source": [
    "def train_loop(model, dataset, loss_fn, optimizer):\n",
    "    # Define forward function\n",
    "    def forward_fn(data, label):\n",
    "        logits = model(data)\n",
    "        loss = loss_fn(logits, label)\n",
    "        return loss, logits\n",
    "\n",
    "    # Get gradient function\n",
    "    grad_fn = ms.ops.value_and_grad(forward_fn, None, optimizer.parameters, has_aux=True)\n",
    "\n",
    "    # Define function of one-step training\n",
    "    def train_step(data, label):\n",
    "        (loss, _), grads = grad_fn(data, label)\n",
    "        loss = ops.depend(loss, optimizer(grads))\n",
    "        return loss\n",
    "\n",
    "    size = dataset.get_dataset_size()\n",
    "    model.set_train()\n",
    "    for batch, (data, label) in enumerate(dataset.create_tuple_iterator()):\n",
    "        loss = train_step(data, label)\n",
    "\n",
    "        if batch % 100 == 0 or batch == step_size_train - 1:\n",
    "            loss, current = loss.asnumpy(), batch\n",
    "            print(f\"loss: {loss:>7f}  [{current:>3d}/{size:>3d}]\")\n",
    "\n",
    "from sklearn.metrics import classification_report\n",
    "\n",
    "def test_loop(model, dataset, loss_fn):\n",
    "    num_batches = dataset.get_dataset_size()\n",
    "    model.set_train(False)\n",
    "    total, test_loss, correct = 0, 0, 0\n",
    "    y_true = []\n",
    "    y_pred = []\n",
    "    for data, label in dataset.create_tuple_iterator():\n",
    "        y_true.extend(label.asnumpy().tolist())\n",
    "        pred = model(data)\n",
    "        total += len(data)\n",
    "        test_loss += loss_fn(pred, label).asnumpy()\n",
    "        y_pred.extend(pred.argmax(1).asnumpy().tolist())\n",
    "        correct += (pred.argmax(1) == label).asnumpy().sum()\n",
    "    test_loss /= num_batches\n",
    "    correct /= total\n",
    "    print(f\"Test: \\n Accuracy: {(100*correct):>0.1f}%, Avg loss: {test_loss:>8f} \\n\")\n",
    "    print(classification_report(y_true,y_pred,target_names= list(index_label_dict.values()),digits=3))\n",
    "    return correct,test_loss\n"
   ]
  },
  {
   "cell_type": "markdown",
   "id": "03fa7a87-f9df-4050-9af0-a6cfccca4543",
   "metadata": {
    "pycharm": {
     "name": "#%% md\n"
    }
   },
   "source": [
    "#### **开始训练**\n",
    "\n",
    "在每个训练轮次中，使用训练集进行模型训练，并计算交叉熵损失以更新参数。随后在验证集上对模型进行测试，并以\"accuracy\"作为评价指标来评估模型的性能。为了防止过拟合，我们引入了早停机制，通过监控验证集上的指标，及时停止训练以避免过拟合，并保存具有最佳性能的模型参数。通过这样的训练过程，我们期望模型能够逐渐优化，并达到更好的性能水平。\n"
   ]
  },
  {
   "cell_type": "code",
   "execution_count": 17,
   "id": "e0469532-ce10-410a-80c2-4553c9c6b7e1",
   "metadata": {
    "pycharm": {
     "name": "#%%\n"
    }
   },
   "outputs": [
    {
     "name": "stdout",
     "output_type": "stream",
     "text": [
      "Epoch 1\n",
      "-------------------------------\n",
      "loss: 2.552313  [  0/137]\n",
      "loss: 0.332173  [100/137]\n",
      "loss: 0.105105  [136/137]\n",
      "Test: \n",
      " Accuracy: 96.1%, Avg loss: 0.139260 \n",
      "\n",
      "              precision    recall  f1-score   support\n",
      "\n",
      "     wblx_tg      1.000     1.000     1.000       105\n",
      "       ph_tg      0.990     0.970     0.980       101\n",
      "       ph_bj      0.976     0.988     0.982        81\n",
      "       sz_tg      1.000     1.000     1.000       102\n",
      "       ph_sz      0.965     0.988     0.976        83\n",
      "       sz_sp      0.722     1.000     0.839        91\n",
      "       sz_bj      1.000     0.643     0.783        98\n",
      "     wblx_sp      1.000     1.000     1.000        81\n",
      "       sz_sz      1.000     1.000     1.000        94\n",
      "     wblx_sz      1.000     1.000     1.000        89\n",
      "     wblx_bj      1.000     1.000     1.000        83\n",
      "       ph_sp      0.987     0.975     0.981        80\n",
      "\n",
      "    accuracy                          0.961      1088\n",
      "   macro avg      0.970     0.964     0.962      1088\n",
      "weighted avg      0.970     0.961     0.960      1088\n",
      "\n",
      "Epoch 2\n",
      "-------------------------------\n",
      "loss: 0.167927  [  0/137]\n",
      "loss: 0.075452  [100/137]\n",
      "loss: 0.018305  [136/137]\n",
      "Test: \n",
      " Accuracy: 99.2%, Avg loss: 0.045949 \n",
      "\n",
      "              precision    recall  f1-score   support\n",
      "\n",
      "     wblx_tg      1.000     1.000     1.000       105\n",
      "       ph_tg      0.981     1.000     0.990       101\n",
      "       ph_bj      0.976     0.988     0.982        81\n",
      "       sz_tg      1.000     1.000     1.000       102\n",
      "       ph_sz      1.000     0.976     0.988        83\n",
      "       sz_sp      0.958     1.000     0.978        91\n",
      "       sz_bj      1.000     0.959     0.979        98\n",
      "     wblx_sp      1.000     1.000     1.000        81\n",
      "       sz_sz      1.000     1.000     1.000        94\n",
      "     wblx_sz      1.000     1.000     1.000        89\n",
      "     wblx_bj      1.000     1.000     1.000        83\n",
      "       ph_sp      0.987     0.975     0.981        80\n",
      "\n",
      "    accuracy                          0.992      1088\n",
      "   macro avg      0.992     0.991     0.992      1088\n",
      "weighted avg      0.992     0.992     0.992      1088\n",
      "\n",
      "Epoch 3\n",
      "-------------------------------\n",
      "loss: 0.048788  [  0/137]\n",
      "loss: 0.032194  [100/137]\n",
      "loss: 0.008316  [136/137]\n",
      "Test: \n",
      " Accuracy: 99.1%, Avg loss: 0.034169 \n",
      "\n",
      "              precision    recall  f1-score   support\n",
      "\n",
      "     wblx_tg      1.000     1.000     1.000       105\n",
      "       ph_tg      0.962     1.000     0.981       101\n",
      "       ph_bj      0.976     0.988     0.982        81\n",
      "       sz_tg      1.000     1.000     1.000       102\n",
      "       ph_sz      1.000     0.952     0.975        83\n",
      "       sz_sp      0.968     1.000     0.984        91\n",
      "       sz_bj      1.000     0.969     0.984        98\n",
      "     wblx_sp      1.000     1.000     1.000        81\n",
      "       sz_sz      1.000     1.000     1.000        94\n",
      "     wblx_sz      1.000     1.000     1.000        89\n",
      "     wblx_bj      1.000     1.000     1.000        83\n",
      "       ph_sp      0.987     0.975     0.981        80\n",
      "\n",
      "    accuracy                          0.991      1088\n",
      "   macro avg      0.991     0.990     0.991      1088\n",
      "weighted avg      0.991     0.991     0.991      1088\n",
      "\n",
      "Epoch 4\n",
      "-------------------------------\n",
      "loss: 0.021396  [  0/137]\n",
      "loss: 0.014842  [100/137]\n",
      "loss: 0.005251  [136/137]\n",
      "Test: \n",
      " Accuracy: 99.1%, Avg loss: 0.029173 \n",
      "\n",
      "              precision    recall  f1-score   support\n",
      "\n",
      "     wblx_tg      1.000     1.000     1.000       105\n",
      "       ph_tg      0.962     1.000     0.981       101\n",
      "       ph_bj      0.976     0.988     0.982        81\n",
      "       sz_tg      1.000     1.000     1.000       102\n",
      "       ph_sz      1.000     0.952     0.975        83\n",
      "       sz_sp      0.968     1.000     0.984        91\n",
      "       sz_bj      1.000     0.969     0.984        98\n",
      "     wblx_sp      1.000     1.000     1.000        81\n",
      "       sz_sz      1.000     1.000     1.000        94\n",
      "     wblx_sz      1.000     1.000     1.000        89\n",
      "     wblx_bj      1.000     1.000     1.000        83\n",
      "       ph_sp      0.987     0.975     0.981        80\n",
      "\n",
      "    accuracy                          0.991      1088\n",
      "   macro avg      0.991     0.990     0.991      1088\n",
      "weighted avg      0.991     0.991     0.991      1088\n",
      "\n",
      "Epoch 5\n",
      "-------------------------------\n",
      "loss: 0.012545  [  0/137]\n",
      "loss: 0.010565  [100/137]\n",
      "loss: 0.003946  [136/137]\n",
      "Test: \n",
      " Accuracy: 99.2%, Avg loss: 0.025786 \n",
      "\n",
      "              precision    recall  f1-score   support\n",
      "\n",
      "     wblx_tg      1.000     1.000     1.000       105\n",
      "       ph_tg      0.953     1.000     0.976       101\n",
      "       ph_bj      0.976     0.988     0.982        81\n",
      "       sz_tg      1.000     1.000     1.000       102\n",
      "       ph_sz      1.000     0.940     0.969        83\n",
      "       sz_sp      0.989     1.000     0.995        91\n",
      "       sz_bj      1.000     0.990     0.995        98\n",
      "     wblx_sp      1.000     1.000     1.000        81\n",
      "       sz_sz      1.000     1.000     1.000        94\n",
      "     wblx_sz      1.000     1.000     1.000        89\n",
      "     wblx_bj      1.000     1.000     1.000        83\n",
      "       ph_sp      0.987     0.975     0.981        80\n",
      "\n",
      "    accuracy                          0.992      1088\n",
      "   macro avg      0.992     0.991     0.991      1088\n",
      "weighted avg      0.992     0.992     0.992      1088\n",
      "\n",
      "Epoch 6\n",
      "-------------------------------\n",
      "loss: 0.008980  [  0/137]\n",
      "loss: 0.007953  [100/137]\n",
      "loss: 0.003102  [136/137]\n",
      "Test: \n",
      " Accuracy: 99.2%, Avg loss: 0.024299 \n",
      "\n",
      "              precision    recall  f1-score   support\n",
      "\n",
      "     wblx_tg      1.000     1.000     1.000       105\n",
      "       ph_tg      0.953     1.000     0.976       101\n",
      "       ph_bj      0.976     0.988     0.982        81\n",
      "       sz_tg      1.000     1.000     1.000       102\n",
      "       ph_sz      1.000     0.940     0.969        83\n",
      "       sz_sp      0.989     1.000     0.995        91\n",
      "       sz_bj      1.000     0.990     0.995        98\n",
      "     wblx_sp      1.000     1.000     1.000        81\n",
      "       sz_sz      1.000     1.000     1.000        94\n",
      "     wblx_sz      1.000     1.000     1.000        89\n",
      "     wblx_bj      1.000     1.000     1.000        83\n",
      "       ph_sp      0.987     0.975     0.981        80\n",
      "\n",
      "    accuracy                          0.992      1088\n",
      "   macro avg      0.992     0.991     0.991      1088\n",
      "weighted avg      0.992     0.992     0.992      1088\n",
      "\n",
      "Epoch 7\n",
      "-------------------------------\n",
      "loss: 0.007046  [  0/137]\n",
      "loss: 0.006484  [100/137]\n",
      "loss: 0.002568  [136/137]\n",
      "Test: \n",
      " Accuracy: 99.2%, Avg loss: 0.023091 \n",
      "\n",
      "              precision    recall  f1-score   support\n",
      "\n",
      "     wblx_tg      1.000     1.000     1.000       105\n",
      "       ph_tg      0.953     1.000     0.976       101\n",
      "       ph_bj      0.976     0.988     0.982        81\n",
      "       sz_tg      1.000     1.000     1.000       102\n",
      "       ph_sz      1.000     0.940     0.969        83\n",
      "       sz_sp      0.989     1.000     0.995        91\n",
      "       sz_bj      1.000     0.990     0.995        98\n",
      "     wblx_sp      1.000     1.000     1.000        81\n",
      "       sz_sz      1.000     1.000     1.000        94\n",
      "     wblx_sz      1.000     1.000     1.000        89\n",
      "     wblx_bj      1.000     1.000     1.000        83\n",
      "       ph_sp      0.987     0.975     0.981        80\n",
      "\n",
      "    accuracy                          0.992      1088\n",
      "   macro avg      0.992     0.991     0.991      1088\n",
      "weighted avg      0.992     0.992     0.992      1088\n",
      "\n",
      "Epoch 8\n",
      "-------------------------------\n",
      "loss: 0.005776  [  0/137]\n",
      "loss: 0.005574  [100/137]\n",
      "loss: 0.002186  [136/137]\n",
      "Test: \n",
      " Accuracy: 99.3%, Avg loss: 0.022165 \n",
      "\n",
      "              precision    recall  f1-score   support\n",
      "\n",
      "     wblx_tg      1.000     1.000     1.000       105\n",
      "       ph_tg      0.962     1.000     0.981       101\n",
      "       ph_bj      0.976     0.988     0.982        81\n",
      "       sz_tg      1.000     1.000     1.000       102\n",
      "       ph_sz      1.000     0.952     0.975        83\n",
      "       sz_sp      0.989     1.000     0.995        91\n",
      "       sz_bj      1.000     0.990     0.995        98\n",
      "     wblx_sp      1.000     1.000     1.000        81\n",
      "       sz_sz      1.000     1.000     1.000        94\n",
      "     wblx_sz      1.000     1.000     1.000        89\n",
      "     wblx_bj      1.000     1.000     1.000        83\n",
      "       ph_sp      0.987     0.975     0.981        80\n",
      "\n",
      "    accuracy                          0.993      1088\n",
      "   macro avg      0.993     0.992     0.992      1088\n",
      "weighted avg      0.993     0.993     0.993      1088\n",
      "\n",
      "Epoch 9\n",
      "-------------------------------\n",
      "loss: 0.004895  [  0/137]\n",
      "loss: 0.004935  [100/137]\n",
      "loss: 0.001904  [136/137]\n",
      "Test: \n",
      " Accuracy: 99.3%, Avg loss: 0.021461 \n",
      "\n",
      "              precision    recall  f1-score   support\n",
      "\n",
      "     wblx_tg      1.000     1.000     1.000       105\n",
      "       ph_tg      0.962     1.000     0.981       101\n",
      "       ph_bj      0.976     0.988     0.982        81\n",
      "       sz_tg      1.000     1.000     1.000       102\n",
      "       ph_sz      1.000     0.952     0.975        83\n",
      "       sz_sp      0.989     1.000     0.995        91\n",
      "       sz_bj      1.000     0.990     0.995        98\n",
      "     wblx_sp      1.000     1.000     1.000        81\n",
      "       sz_sz      1.000     1.000     1.000        94\n",
      "     wblx_sz      1.000     1.000     1.000        89\n",
      "     wblx_bj      1.000     1.000     1.000        83\n",
      "       ph_sp      0.987     0.975     0.981        80\n",
      "\n",
      "    accuracy                          0.993      1088\n",
      "   macro avg      0.993     0.992     0.992      1088\n",
      "weighted avg      0.993     0.993     0.993      1088\n",
      "\n",
      "Epoch 10\n",
      "-------------------------------\n",
      "loss: 0.004263  [  0/137]\n",
      "loss: 0.004390  [100/137]\n",
      "loss: 0.001688  [136/137]\n",
      "Test: \n",
      " Accuracy: 99.3%, Avg loss: 0.020886 \n",
      "\n",
      "              precision    recall  f1-score   support\n",
      "\n",
      "     wblx_tg      1.000     1.000     1.000       105\n",
      "       ph_tg      0.962     1.000     0.981       101\n",
      "       ph_bj      0.976     0.988     0.982        81\n",
      "       sz_tg      1.000     1.000     1.000       102\n",
      "       ph_sz      1.000     0.952     0.975        83\n",
      "       sz_sp      0.989     1.000     0.995        91\n",
      "       sz_bj      1.000     0.990     0.995        98\n",
      "     wblx_sp      1.000     1.000     1.000        81\n",
      "       sz_sz      1.000     1.000     1.000        94\n",
      "     wblx_sz      1.000     1.000     1.000        89\n",
      "     wblx_bj      1.000     1.000     1.000        83\n",
      "       ph_sp      0.987     0.975     0.981        80\n",
      "\n",
      "    accuracy                          0.993      1088\n",
      "   macro avg      0.993     0.992     0.992      1088\n",
      "weighted avg      0.993     0.993     0.993      1088\n",
      "\n",
      "Epoch 11\n",
      "-------------------------------\n",
      "loss: 0.003766  [  0/137]\n",
      "loss: 0.003934  [100/137]\n",
      "loss: 0.001513  [136/137]\n",
      "Test: \n",
      " Accuracy: 99.2%, Avg loss: 0.023342 \n",
      "\n",
      "              precision    recall  f1-score   support\n",
      "\n",
      "     wblx_tg      1.000     1.000     1.000       105\n",
      "       ph_tg      0.962     1.000     0.981       101\n",
      "       ph_bj      1.000     0.988     0.994        81\n",
      "       sz_tg      1.000     1.000     1.000       102\n",
      "       ph_sz      1.000     0.952     0.975        83\n",
      "       sz_sp      0.958     1.000     0.978        91\n",
      "       sz_bj      1.000     0.959     0.979        98\n",
      "     wblx_sp      1.000     1.000     1.000        81\n",
      "       sz_sz      1.000     1.000     1.000        94\n",
      "     wblx_sz      1.000     1.000     1.000        89\n",
      "     wblx_bj      1.000     1.000     1.000        83\n",
      "       ph_sp      0.988     1.000     0.994        80\n",
      "\n",
      "    accuracy                          0.992      1088\n",
      "   macro avg      0.992     0.992     0.992      1088\n",
      "weighted avg      0.992     0.992     0.992      1088\n",
      "\n",
      "Epoch 12\n",
      "-------------------------------\n",
      "loss: 0.003215  [  0/137]\n",
      "loss: 0.003516  [100/137]\n",
      "loss: 0.001371  [136/137]\n",
      "Test: \n",
      " Accuracy: 99.3%, Avg loss: 0.020931 \n",
      "\n",
      "              precision    recall  f1-score   support\n",
      "\n",
      "     wblx_tg      1.000     1.000     1.000       105\n",
      "       ph_tg      0.962     1.000     0.981       101\n",
      "       ph_bj      0.988     0.988     0.988        81\n",
      "       sz_tg      1.000     1.000     1.000       102\n",
      "       ph_sz      1.000     0.952     0.975        83\n",
      "       sz_sp      0.978     1.000     0.989        91\n",
      "       sz_bj      1.000     0.980     0.990        98\n",
      "     wblx_sp      1.000     1.000     1.000        81\n",
      "       sz_sz      1.000     1.000     1.000        94\n",
      "     wblx_sz      1.000     1.000     1.000        89\n",
      "     wblx_bj      1.000     1.000     1.000        83\n",
      "       ph_sp      0.988     0.988     0.988        80\n",
      "\n",
      "    accuracy                          0.993      1088\n",
      "   macro avg      0.993     0.992     0.992      1088\n",
      "weighted avg      0.993     0.993     0.993      1088\n",
      "\n",
      "Epoch 13\n",
      "-------------------------------\n",
      "loss: 0.003079  [  0/137]\n",
      "loss: 0.024464  [100/137]\n",
      "loss: 0.001791  [136/137]\n",
      "Test: \n",
      " Accuracy: 99.2%, Avg loss: 0.022524 \n",
      "\n",
      "              precision    recall  f1-score   support\n",
      "\n",
      "     wblx_tg      1.000     1.000     1.000       105\n",
      "       ph_tg      0.953     1.000     0.976       101\n",
      "       ph_bj      0.976     0.988     0.982        81\n",
      "       sz_tg      1.000     1.000     1.000       102\n",
      "       ph_sz      1.000     0.940     0.969        83\n",
      "       sz_sp      0.989     1.000     0.995        91\n",
      "       sz_bj      1.000     0.990     0.995        98\n",
      "     wblx_sp      1.000     1.000     1.000        81\n",
      "       sz_sz      1.000     1.000     1.000        94\n",
      "     wblx_sz      1.000     1.000     1.000        89\n",
      "     wblx_bj      1.000     1.000     1.000        83\n",
      "       ph_sp      0.987     0.975     0.981        80\n",
      "\n",
      "    accuracy                          0.992      1088\n",
      "   macro avg      0.992     0.991     0.991      1088\n",
      "weighted avg      0.992     0.992     0.992      1088\n",
      "\n",
      "Epoch 14\n",
      "-------------------------------\n",
      "loss: 0.003525  [  0/137]\n",
      "loss: 0.004121  [100/137]\n",
      "loss: 0.001310  [136/137]\n",
      "Test: \n",
      " Accuracy: 99.4%, Avg loss: 0.014226 \n",
      "\n",
      "              precision    recall  f1-score   support\n",
      "\n",
      "     wblx_tg      1.000     1.000     1.000       105\n",
      "       ph_tg      0.971     1.000     0.985       101\n",
      "       ph_bj      0.988     0.988     0.988        81\n",
      "       sz_tg      1.000     1.000     1.000       102\n",
      "       ph_sz      1.000     0.964     0.982        83\n",
      "       sz_sp      0.989     1.000     0.995        91\n",
      "       sz_bj      1.000     0.990     0.995        98\n",
      "     wblx_sp      1.000     1.000     1.000        81\n",
      "       sz_sz      1.000     1.000     1.000        94\n",
      "     wblx_sz      1.000     1.000     1.000        89\n",
      "     wblx_bj      1.000     1.000     1.000        83\n",
      "       ph_sp      0.988     0.988     0.988        80\n",
      "\n",
      "    accuracy                          0.994      1088\n",
      "   macro avg      0.995     0.994     0.994      1088\n",
      "weighted avg      0.995     0.994     0.994      1088\n",
      "\n",
      "Epoch 15\n",
      "-------------------------------\n",
      "loss: 0.002786  [  0/137]\n",
      "loss: 0.003265  [100/137]\n",
      "loss: 0.001182  [136/137]\n",
      "Test: \n",
      " Accuracy: 99.4%, Avg loss: 0.013891 \n",
      "\n",
      "              precision    recall  f1-score   support\n",
      "\n",
      "     wblx_tg      1.000     1.000     1.000       105\n",
      "       ph_tg      0.971     1.000     0.985       101\n",
      "       ph_bj      0.988     0.988     0.988        81\n",
      "       sz_tg      1.000     1.000     1.000       102\n",
      "       ph_sz      1.000     0.964     0.982        83\n",
      "       sz_sp      0.989     1.000     0.995        91\n",
      "       sz_bj      1.000     0.990     0.995        98\n",
      "     wblx_sp      1.000     1.000     1.000        81\n",
      "       sz_sz      1.000     1.000     1.000        94\n",
      "     wblx_sz      1.000     1.000     1.000        89\n",
      "     wblx_bj      1.000     1.000     1.000        83\n",
      "       ph_sp      0.988     0.988     0.988        80\n",
      "\n",
      "    accuracy                          0.994      1088\n",
      "   macro avg      0.995     0.994     0.994      1088\n",
      "weighted avg      0.995     0.994     0.994      1088\n",
      "\n",
      "Epoch 16\n",
      "-------------------------------\n",
      "loss: 0.002511  [  0/137]\n",
      "loss: 0.002904  [100/137]\n",
      "loss: 0.001090  [136/137]\n",
      "Test: \n",
      " Accuracy: 99.4%, Avg loss: 0.013744 \n",
      "\n",
      "              precision    recall  f1-score   support\n",
      "\n",
      "     wblx_tg      1.000     1.000     1.000       105\n",
      "       ph_tg      0.971     1.000     0.985       101\n",
      "       ph_bj      0.976     0.988     0.982        81\n",
      "       sz_tg      1.000     1.000     1.000       102\n",
      "       ph_sz      1.000     0.964     0.982        83\n",
      "       sz_sp      0.989     1.000     0.995        91\n",
      "       sz_bj      1.000     0.990     0.995        98\n",
      "     wblx_sp      1.000     1.000     1.000        81\n",
      "       sz_sz      1.000     1.000     1.000        94\n",
      "     wblx_sz      1.000     1.000     1.000        89\n",
      "     wblx_bj      1.000     1.000     1.000        83\n",
      "       ph_sp      0.987     0.975     0.981        80\n",
      "\n",
      "    accuracy                          0.994      1088\n",
      "   macro avg      0.994     0.993     0.993      1088\n",
      "weighted avg      0.994     0.994     0.994      1088\n",
      "\n",
      "Epoch 17\n",
      "-------------------------------\n",
      "loss: 0.002317  [  0/137]\n",
      "loss: 0.002620  [100/137]\n",
      "loss: 0.001017  [136/137]\n",
      "Test: \n",
      " Accuracy: 99.4%, Avg loss: 0.013832 \n",
      "\n",
      "              precision    recall  f1-score   support\n",
      "\n",
      "     wblx_tg      1.000     1.000     1.000       105\n",
      "       ph_tg      0.971     1.000     0.985       101\n",
      "       ph_bj      0.976     0.988     0.982        81\n",
      "       sz_tg      1.000     1.000     1.000       102\n",
      "       ph_sz      1.000     0.964     0.982        83\n",
      "       sz_sp      0.989     1.000     0.995        91\n",
      "       sz_bj      1.000     0.990     0.995        98\n",
      "     wblx_sp      1.000     1.000     1.000        81\n",
      "       sz_sz      1.000     1.000     1.000        94\n",
      "     wblx_sz      1.000     1.000     1.000        89\n",
      "     wblx_bj      1.000     1.000     1.000        83\n",
      "       ph_sp      0.987     0.975     0.981        80\n",
      "\n",
      "    accuracy                          0.994      1088\n",
      "   macro avg      0.994     0.993     0.993      1088\n",
      "weighted avg      0.994     0.994     0.994      1088\n",
      "\n",
      "Epoch 18\n",
      "-------------------------------\n",
      "loss: 0.002174  [  0/137]\n",
      "loss: 0.002456  [100/137]\n",
      "loss: 0.000957  [136/137]\n",
      "Test: \n",
      " Accuracy: 99.4%, Avg loss: 0.013751 \n",
      "\n",
      "              precision    recall  f1-score   support\n",
      "\n",
      "     wblx_tg      1.000     1.000     1.000       105\n",
      "       ph_tg      0.971     1.000     0.985       101\n",
      "       ph_bj      0.976     0.988     0.982        81\n",
      "       sz_tg      1.000     1.000     1.000       102\n",
      "       ph_sz      1.000     0.964     0.982        83\n",
      "       sz_sp      0.989     1.000     0.995        91\n",
      "       sz_bj      1.000     0.990     0.995        98\n",
      "     wblx_sp      1.000     1.000     1.000        81\n",
      "       sz_sz      1.000     1.000     1.000        94\n",
      "     wblx_sz      1.000     1.000     1.000        89\n",
      "     wblx_bj      1.000     1.000     1.000        83\n",
      "       ph_sp      0.987     0.975     0.981        80\n",
      "\n",
      "    accuracy                          0.994      1088\n",
      "   macro avg      0.994     0.993     0.993      1088\n",
      "weighted avg      0.994     0.994     0.994      1088\n",
      "\n",
      "Epoch 19\n",
      "-------------------------------\n",
      "loss: 0.002036  [  0/137]\n",
      "loss: 0.002307  [100/137]\n",
      "loss: 0.000905  [136/137]\n",
      "Test: \n",
      " Accuracy: 99.4%, Avg loss: 0.013725 \n",
      "\n",
      "              precision    recall  f1-score   support\n",
      "\n",
      "     wblx_tg      1.000     1.000     1.000       105\n",
      "       ph_tg      0.971     1.000     0.985       101\n",
      "       ph_bj      0.976     0.988     0.982        81\n",
      "       sz_tg      1.000     1.000     1.000       102\n",
      "       ph_sz      1.000     0.964     0.982        83\n",
      "       sz_sp      0.989     1.000     0.995        91\n",
      "       sz_bj      1.000     0.990     0.995        98\n",
      "     wblx_sp      1.000     1.000     1.000        81\n",
      "       sz_sz      1.000     1.000     1.000        94\n",
      "     wblx_sz      1.000     1.000     1.000        89\n",
      "     wblx_bj      1.000     1.000     1.000        83\n",
      "       ph_sp      0.987     0.975     0.981        80\n",
      "\n",
      "    accuracy                          0.994      1088\n",
      "   macro avg      0.994     0.993     0.993      1088\n",
      "weighted avg      0.994     0.994     0.994      1088\n",
      "\n",
      "Epoch 20\n",
      "-------------------------------\n",
      "loss: 0.001930  [  0/137]\n",
      "loss: 0.002182  [100/137]\n",
      "loss: 0.000861  [136/137]\n",
      "Test: \n",
      " Accuracy: 99.4%, Avg loss: 0.013684 \n",
      "\n",
      "              precision    recall  f1-score   support\n",
      "\n",
      "     wblx_tg      1.000     1.000     1.000       105\n",
      "       ph_tg      0.971     1.000     0.985       101\n",
      "       ph_bj      0.976     0.988     0.982        81\n",
      "       sz_tg      1.000     1.000     1.000       102\n",
      "       ph_sz      1.000     0.964     0.982        83\n",
      "       sz_sp      0.989     1.000     0.995        91\n",
      "       sz_bj      1.000     0.990     0.995        98\n",
      "     wblx_sp      1.000     1.000     1.000        81\n",
      "       sz_sz      1.000     1.000     1.000        94\n",
      "     wblx_sz      1.000     1.000     1.000        89\n",
      "     wblx_bj      1.000     1.000     1.000        83\n",
      "       ph_sp      0.987     0.975     0.981        80\n",
      "\n",
      "    accuracy                          0.994      1088\n",
      "   macro avg      0.994     0.993     0.993      1088\n",
      "weighted avg      0.994     0.994     0.994      1088\n",
      "\n",
      "Early stopping triggered. Restoring best weights...\n",
      "Done!\n"
     ]
    }
   ],
   "source": [
    "no_improvement_count = 0\n",
    "acc_list = []\n",
    "loss_list = []\n",
    "stop_epoch = num_epochs\n",
    "for t in range(num_epochs):\n",
    "    print(f\"Epoch {t+1}\\n-------------------------------\")\n",
    "    train_loop(network, dataset_train, loss_fn, opt)\n",
    "    acc,loss = test_loop(network, dataset_val, loss_fn)\n",
    "    acc_list.append(acc)\n",
    "    loss_list.append(loss)\n",
    "    if acc > best_acc:\n",
    "        best_acc = acc\n",
    "        if not os.path.exists(best_ckpt_dir):\n",
    "            os.mkdir(best_ckpt_dir)\n",
    "        ms.save_checkpoint(network, best_ckpt_path)\n",
    "        no_improvement_count = 0\n",
    "    else:\n",
    "        no_improvement_count += 1\n",
    "        if no_improvement_count > patience:\n",
    "            print('Early stopping triggered. Restoring best weights...')\n",
    "            stop_epoch = t\n",
    "            break \n",
    "print(\"Done!\")\n"
   ]
  },
  {
   "cell_type": "markdown",
   "id": "b24e1ade-daee-45e7-a74d-d79e0952d2d6",
   "metadata": {
    "pycharm": {
     "name": "#%% md\n"
    }
   },
   "source": [
    "#### **结果可视化展示**"
   ]
  },
  {
   "cell_type": "code",
   "execution_count": 18,
   "id": "cdeaaaaa-dd5a-475b-ad47-d7664e9f2769",
   "metadata": {
    "pycharm": {
     "name": "#%%\n"
    }
   },
   "outputs": [
    {
     "name": "stderr",
     "output_type": "stream",
     "text": [
      "findfont: Font family ['YouYuan'] not found. Falling back to DejaVu Sans.\n"
     ]
    },
    {
     "data": {
      "image/png": "[encoded data removed]",
      "text/plain": [
       "<Figure size 720x504 with 2 Axes>"
      ]
     },
     "metadata": {
      "needs_background": "light"
     },
     "output_type": "display_data"
    }
   ],
   "source": [
    "import matplotlib.pyplot as plt\n",
    "\n",
    "def plot_training_process(acc_list, loss_list):\n",
    "    epochs = range(1, len(acc_list) + 1)\n",
    "    plt.figure(figsize=(10, 7))\n",
    "    # 绘制准确率曲线\n",
    "    plt.subplot(121)\n",
    "    plt.plot(epochs, acc_list, 'b-', label='Training Accuracy')\n",
    "    plt.title('Training Accuracy')\n",
    "    plt.xlabel('Epochs')\n",
    "    plt.ylabel('Accuracy')\n",
    "    plt.legend()\n",
    "\n",
    "    # 绘制损失函数曲线\n",
    "    plt.subplot(122)\n",
    "    plt.plot(epochs, loss_list, 'r-', label='Training Loss')\n",
    "    plt.title('Training Loss')\n",
    "    plt.xlabel('Epochs')\n",
    "    plt.ylabel('Loss')\n",
    "    plt.legend()\n",
    "\n",
    "    # 调整子图间距\n",
    "    plt.subplots_adjust(wspace=0.4)\n",
    "\n",
    "    # 显示图像\n",
    "    plt.show()\n",
    "\n",
    "# 调用函数绘制训练过程图\n",
    "plot_training_process(acc_list, loss_list)\n"
   ]
  },
  {
   "cell_type": "markdown",
   "id": "56a506e4-9892-4f43-a377-7fcaf177a821",
   "metadata": {
    "pycharm": {
     "name": "#%% md\n"
    }
   },
   "source": [
    "### **模型推理**\n",
    "在模型推理阶段，我们提供了两种预测推理方式：单张图片推理和数据集推理方式"
   ]
  },
  {
   "cell_type": "markdown",
   "id": "c25cf05c-0ef3-4c94-993f-695811d0520e",
   "metadata": {
    "pycharm": {
     "name": "#%% md\n"
    }
   },
   "source": [
    "#### **加载模型**\n",
    "首先加载训练好了的最佳模型权重。"
   ]
  },
  {
   "cell_type": "code",
   "execution_count": 19,
   "id": "630601bc-08f8-4727-9992-18e84139d376",
   "metadata": {
    "pycharm": {
     "name": "#%%\n"
    }
   },
   "outputs": [],
   "source": [
    "import matplotlib.pyplot as plt\n",
    "\n",
    "num_class = 12  # \n",
    "net = resnet50(num_class)\n",
    "best_ckpt_path = 'BestCheckpoint/resnet50-best.ckpt'\n",
    "# 加载模型参数\n",
    "param_dict = ms.load_checkpoint(best_ckpt_path)\n",
    "ms.load_param_into_net(net, param_dict)\n",
    "model = ms.Model(net)\n",
    "image_size = 224\n",
    "workers = 1"
   ]
  },
  {
   "cell_type": "markdown",
   "id": "89ade577-6e1f-4fa8-9847-2b6cf4641a17",
   "metadata": {
    "pycharm": {
     "name": "#%% md\n"
    }
   },
   "source": [
    "#### **通过传入图片路径进行推理**\n",
    "给定单张图片的路径推理预测分类结果"
   ]
  },
  {
   "cell_type": "code",
   "execution_count": 20,
   "id": "4f384425-39c6-40e0-b6de-55ae9b2f099e",
   "metadata": {
    "pycharm": {
     "name": "#%%\n"
    }
   },
   "outputs": [],
   "source": [
    "def predict_one(input_img):\n",
    "    # 加载验证集的数据进行验证\n",
    "    dataset_one = create_dataset_zhongyao(dataset_dir=input_img,\n",
    "                                       usage=\"test\",\n",
    "                                       resize=image_size,\n",
    "                                       batch_size=1,\n",
    "                                       workers=workers)\n",
    "    data = next(dataset_one.create_tuple_iterator())\n",
    "    # print(data)\n",
    "    images = data[0].asnumpy()\n",
    "    labels = data[1].asnumpy()\n",
    "    # 预测图像类别\n",
    "    output = model.predict(ms.Tensor(data[0]))\n",
    "    pred = np.argmax(output.asnumpy(), axis=1)\n",
    "    # print(f'预测结果：{index_label_dict[pred[0]]}')\n",
    "    return index_label_dict[pred[0]]"
   ]
  },
  {
   "cell_type": "code",
   "execution_count": 21,
   "id": "cf73f9cf-9c7f-414e-90e7-8b09ad00b79a",
   "metadata": {
    "pycharm": {
     "name": "#%%\n"
    }
   },
   "outputs": [
    {
     "name": "stdout",
     "output_type": "stream",
     "text": [
      "sz_tg\n"
     ]
    }
   ],
   "source": [
    "input_img = \"dataset1/zhongyiyao/train/sz_tg/IMG_6002.JPG\"\n",
    "print(predict_one(input_img))"
   ]
  },
  {
   "cell_type": "markdown",
   "id": "b5630d16-ea0f-4b93-a41a-5d796b6092f8",
   "metadata": {
    "pycharm": {
     "name": "#%% md\n"
    }
   },
   "source": [
    "#### **通过传入测试数据集进行推理**\n",
    "直接给定测试数据集，模型将对数据集中的样本进行预测，并生成可视化展示来呈现推理结果。"
   ]
  },
  {
   "cell_type": "code",
   "execution_count": 22,
   "id": "25c69cfe-8097-45f1-ac9a-df894b1091bd",
   "metadata": {
    "pycharm": {
     "name": "#%%\n"
    }
   },
   "outputs": [],
   "source": [
    "def visualize_model(dataset_test):\n",
    "    # 加载验证集的数据进行验证\n",
    "    data = next(dataset_test.create_tuple_iterator())\n",
    "    # print(data)\n",
    "    images = data[0].asnumpy()\n",
    "    labels = data[1].asnumpy()\n",
    "    # 预测图像类别\n",
    "    output = model.predict(ms.Tensor(data[0]))\n",
    "    pred = np.argmax(output.asnumpy(), axis=1)\n",
    "\n",
    "    # 显示图像及图像的预测值\n",
    "    plt.figure(figsize=(10, 6))\n",
    "    for i in range(6):\n",
    "        plt.subplot(2, 3, i+1)\n",
    "        color = 'blue' if pred[i] == labels[i] else 'red'\n",
    "        plt.title('predict:{}  actual:{}'.format(index_label_dict[pred[i]],index_label_dict[labels[i]]), color=color)\n",
    "        picture_show = np.transpose(images[i], (1, 2, 0))\n",
    "        mean = np.array([0.4914, 0.4822, 0.4465])\n",
    "        std = np.array([0.2023, 0.1994, 0.2010])\n",
    "        picture_show = std * picture_show + mean\n",
    "        picture_show = np.clip(picture_show, 0, 1)\n",
    "        plt.imshow(picture_show)\n",
    "        plt.axis('off')\n",
    "\n",
    "    plt.show()\n"
   ]
  },
  {
   "cell_type": "code",
   "execution_count": 23,
   "id": "1a78a050-89d8-4322-9d68-5da22dea6b8e",
   "metadata": {
    "pycharm": {
     "name": "#%%\n"
    }
   },
   "outputs": [
    {
     "data": {
      "image/png": "[encoded data removed]",
      "text/plain": [
       "<Figure size 720x432 with 6 Axes>"
      ]
     },
     "metadata": {
      "needs_background": "light"
     },
     "output_type": "display_data"
    }
   ],
   "source": [
    "visualize_model(dataset_val)"
   ]
  },
  {
   "cell_type": "markdown",
   "id": "cb0416a0-b6ce-44c7-b7d2-06b3319223cc",
   "metadata": {
    "pycharm": {
     "name": "#%% md\n"
    }
   },
   "source": [
    "### **参考文献**\n",
    "[1] He, K., Zhang, X., Ren, S., & Sun, J. (2016). Deep residual learning for image recognition. In Proceedings of the IEEE conference on computer vision and pattern recognition (pp. 770-778)."
   ]
  }
 ],
 "metadata": {
  "kernelspec": {
   "display_name": "MindSpore",
   "language": "python",
   "name": "mindspore"
  },
  "language_info": {
   "codemirror_mode": {
    "name": "ipython",
    "version": 3
   },
   "file_extension": ".py",
   "mimetype": "text/x-python",
   "name": "python",
   "nbconvert_exporter": "python",
   "pygments_lexer": "ipython3",
   "version": "3.7.10"
  }
 },
 "nbformat": 4,
 "nbformat_minor": 5
}